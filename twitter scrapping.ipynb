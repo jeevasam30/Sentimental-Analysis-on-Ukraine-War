{
 "cells": [
  {
   "cell_type": "code",
   "execution_count": 1,
   "id": "a5d53d85",
   "metadata": {},
   "outputs": [
    {
     "name": "stdout",
     "output_type": "stream",
     "text": [
      "\u001b[33mWARNING: You are using pip version 21.3.1; however, version 22.0.4 is available.\r\n",
      "You should consider upgrading via the '/Users/harshithakonduru/opt/anaconda3/bin/python -m pip install --upgrade pip' command.\u001b[0m\r\n"
     ]
    }
   ],
   "source": [
    "!pip install -q snscrape"
   ]
  },
  {
   "cell_type": "code",
   "execution_count": 2,
   "id": "4fa0f5d9",
   "metadata": {},
   "outputs": [
    {
     "name": "stdout",
     "output_type": "stream",
     "text": [
      "Requirement already satisfied: pip in ./opt/anaconda3/lib/python3.8/site-packages (21.3.1)\n",
      "Collecting pip\n",
      "  Downloading pip-22.0.4-py3-none-any.whl (2.1 MB)\n",
      "\u001b[K     |████████████████████████████████| 2.1 MB 5.9 MB/s eta 0:00:01\n",
      "\u001b[?25hInstalling collected packages: pip\n",
      "  Attempting uninstall: pip\n",
      "    Found existing installation: pip 21.3.1\n",
      "    Uninstalling pip-21.3.1:\n",
      "      Successfully uninstalled pip-21.3.1\n",
      "Successfully installed pip-22.0.4\n"
     ]
    }
   ],
   "source": [
    "!pip install --upgrade pip"
   ]
  },
  {
   "cell_type": "code",
   "execution_count": 3,
   "id": "34d4b28e",
   "metadata": {},
   "outputs": [],
   "source": [
    "!pip install -q snscrape"
   ]
  },
  {
   "cell_type": "code",
   "execution_count": 5,
   "id": "38bc547d",
   "metadata": {},
   "outputs": [],
   "source": [
    "import os\n",
    "import pandas as pd\n",
    "from datetime import date"
   ]
  },
  {
   "cell_type": "code",
   "execution_count": 6,
   "id": "0dc0138f",
   "metadata": {},
   "outputs": [
    {
     "name": "stdout",
     "output_type": "stream",
     "text": [
      "2022-03-28\n"
     ]
    }
   ],
   "source": [
    "today = date.today()\n",
    "end_date = today\n",
    "print(end_date)"
   ]
  },
  {
   "cell_type": "code",
   "execution_count": 30,
   "id": "c143765a",
   "metadata": {},
   "outputs": [],
   "source": [
    "search_term = 'WillSmith'\n",
    "from_date = '2022-01-01'"
   ]
  },
  {
   "cell_type": "code",
   "execution_count": 31,
   "id": "6e678c32",
   "metadata": {},
   "outputs": [
    {
     "name": "stdout",
     "output_type": "stream",
     "text": [
      "Number Of Tweets : 175\n"
     ]
    }
   ],
   "source": [
    "os.system(f\"snscrape --since {from_date} twitter-search '{search_term} until:{end_date}' > result-tweets.txt\")\n",
    "if os.stat(\"result-tweets.txt\").st_size == 0:\n",
    "    counter = 0\n",
    "else:\n",
    "    df = pd.read_csv('result-tweets.txt', names=['link'])\n",
    "    counter = df.size\n",
    "\n",
    "print('Number Of Tweets : '+ str(counter))"
   ]
  },
  {
   "cell_type": "code",
   "execution_count": 32,
   "id": "309e8532",
   "metadata": {},
   "outputs": [],
   "source": [
    "max_results = 100"
   ]
  },
  {
   "cell_type": "code",
   "execution_count": 33,
   "id": "a03355c7",
   "metadata": {},
   "outputs": [
    {
     "name": "stdout",
     "output_type": "stream",
     "text": [
      "(0, \"'Only here to watch the GOAT Will Smith get his first trophy.. #Oscars'\")\n",
      "(1, \"'will smith https://t.co/UwB8am4ctS'\")\n",
      "(2, \"'🗣Will Smith should win best actor! \\\\n\\\\n#KingRichard'\")\n",
      "(3, \"'#Oscars  on in the background as I prep for the week. Mainly because I love @MoreReginaHall &amp; @jes_chastain. Also hoping #WillSmith finally brings one home tonight. 💯 deserved for #KingRichard.'\")\n",
      "(4, \"'Best Actor: Will Smith\\\\n\\\\nThis category felt pretty clear. Andrew Garfield in Tick Tick Boom would be second if i had to choose.'\")\n",
      "(5, \"'Meilleur Acteur :\\\\nMon choix : Andrew Garfield pour #ticktickBOOM\\\\nMon prono : Will Smith pour #KingRichard https://t.co/z8aSsDLPOs'\")\n",
      "(6, \"'Rooting so hard for Mr. Will Smith and all things Worst Person in the World tn 🙌🏾 https://t.co/6JYXdzng8C'\")\n",
      "(7, \"'Se lo debería ganar Andrew Garfield\")\n",
      "(8, \"'If it’s not will smith we riot https://t.co/exSRLoTqtb'\")\n",
      "(9, \"'@ermdamaral Dude\")\n",
      "(10, \"'A minutos de empezar #Oscars\\\\n#AlfombraRojaE lo tiene todo....\\\\n@willsmith 👏👏👏💕 https://t.co/ChrBkj0iwU'\")\n",
      "(11, \"'My picks for the Oscars: Favorite Movie: BELFAST (Best Director: Kenneth Branagh) Also loved West Side Story and CODA\\\\nFavorite Actor: Will Smith \\\\nFavorite Actress: Rachel Zeglar (West Side Story) but she wasn’t even nominated!   \\\\nFavorite Supporting Actor: Ciarán Hinds (Belfast)'\")\n",
      "(12, \"'Will Smith been through a lot though\")\n",
      "(13, \"'@stephenasmith @willpackerprods @willsmith People sit down and watch an award show? https://t.co/osQ5JrJ4bw'\")\n",
      "(14, \"'Tonight is the night! Give Will Smith his statue #Oscars https://t.co/iNu2twP9s8'\")\n",
      "(15, \"'Obviamente tendría que ser Denzel Washington pero forzarán una victoria de Will Smith o Garfield porque ✨progres✨ https://t.co/FDvdxFoL9E'\")\n",
      "(16, \"'Te quiero mucho Will Smith #Oscars #TNTLA Saludos desde Mexico'\")\n",
      "(17, \"'@georgehahn Will Smith looked dashing...'\")\n",
      "(18, \"'Rooting for Will Smith tonight since hems never won an Oscar before'\")\n",
      "(19, \"'Melhor filme= CODA\\\\nMelhor direção: Jane\\\\nMelhor ator: Will Smith mas queria Denzel \\\\nMelhor atriz: Jessica\\\\nMelhor animação: família mitchell'\")\n",
      "(20, \"'#Oscar 2022 Predictions:\\\\n\\\\nBest Picture (CODA)\\\\nBest Director (PT Anderson)\\\\nBest Actor (Will Smith)\\\\nBest Actress (Penelope Cruz)\\\\nBest Supporting Actor (Troy Kutsur)\\\\nBest Supporting Actress (Ariana DeBose)'\")\n",
      "(21, \"@PettyLupone That looks divine ! 😋\\\\nNot watching the Oscar's 2nite but pls let me know if Will Smith finally wins 🤗\")\n",
      "(22, \"'Bueno acá van mis favoritos para los #Oscars #TNTLA\\\\nPelícula : Dont look Up\\\\nActor: Will Smith\\\\nActriz: Kristen Stewart\\\\nActor R: kodi smit-mcphee\\\\nActriz R: Kristen Dunst\\\\nPelícula Animada: The mitchells vs Machines\\\\nCanción Original: No time to die\\\\nEfectos visuales: Shang Shi'\")\n",
      "(23, \"'Also here to see Will Smith finally win his #Oscar https://t.co/uS8K9oe55D'\")\n",
      "(24, \"'Will Smith e a esposa (cujo eu não sei o nome) - abaixo\\\\n\\\\nPro Will eu dou 5/10 né - look padrão de homem heterosexual\\\\n\\\\nPra esposa do WS : 8/10 - que vestido é esse? Tá lindo! Eu adorei\")\n",
      "(25, \"'O TRIO DE MILHÕES!! Andrew Garfield\")\n",
      "(26, \"'A nadie le interesa pero aquí lo dejo ⬇️\\\\n-Pelicula: Dune\\\\n-Director: Jane Campion\\\\n-Actor: Will Smith (ojalá fuera Andrew Garfield)\\\\n-Actriz: Nicole Kidman\\\\n-Animacion: The Mitchells vs The Machine\\\\n\\\\nA ver si le pego a 2/5 😜 #Oscars'\")\n",
      "(27, \"'@Verizon Will Smith for Best Actor #Verizon5GUltraPass #Sweepstakes https://t.co/oyHpzLpnp3'\")\n",
      "(28, \"'actor in a leading role:\\\\ni liked: will smith in king richard'\")\n",
      "(29, \"'Será que é desta que o Will Smith ganha o Óscar?'\")\n",
      "(30, \"'Na real\")\n",
      "(31, \"'@HBOMaxLA @willsmith @TNTLA You tagged the wrong will smith.'\")\n",
      "(32, \"'will smith directamente no envejece'\")\n",
      "(33, \"'@M0NIEVERSE I feel like will smith will beat him 🤷\\\\u200d♀️'\")\n",
      "(34, \"'@Jessyka77543146 Javier Bardem\")\n",
      "(35, \"'#Oscars #TNTLA Viendo la gala de los Oscars... saluditos desde Tacna\")\n",
      "(36, \"'@stephenasmith @willpackerprods @willsmith 🙏'\")\n",
      "(37, \"'Mis predicciones al Oscar:\\\\n\\\\nFotografía: Dune\\\\nGuion Adaptado: El poder del perro\\\\nGuion original: Licorice Pizza\\\\nPelícula animada: Los Mitchel contra las maquinas.\\\\nActor de reparto: Troy Kotsur\\\\nActriz de reparto: Ariana DeBose\\\\nActor: Will Smith\\\\nActriz: Jessica Chastain.'\")\n",
      "(38, \"'Añado a estas horas mis favs de interpretación.\\\\nEn mejor actor Will Smith me parece el peor. Bardem bien. Me  gustan pero me cansan un poco la intensidad de Denzel y la afectación relamida de Andrew. El mejor me parece Benedicto sin duda. https://t.co/BFmWHMlLaa'\")\n",
      "(39, \"'Also getting out of the way now - would prefer if it didn’t win but not against King Richard getting best picture and Will Smith getting Best Actor. No faults with them but there are better films and actors nominated #Oscars2022'\")\n",
      "(40, \"'Não discordo dos críticos e acho que a estatueta de direção irá para Jane Campion. Seu trabalho em “Ataque dos Cães” é sublime. Will Smith deve ganhar como melhor ator\")\n",
      "(41, \"'¡Andrew Garfield y Will Smith conversando! Ambos se encuentran nominados por ‘Mejor Actor’ 👏🏻#Oscars https://t.co/OXjmXWoaZC'\")\n",
      "(42, '\\'Will Smith en la alfombra roja del #Oscar. 🎾\\\\n\\\\nNominado a mejor actor por \"King Richard\".\\\\n\\\\n#Oscars2022 #Oscars https://t.co/VoBIsPyu3X\\'')\n",
      "(43, \"'If Will Smith wins this Oscar… I’m FLOOOOOOODING THE TIME LINE'\")\n",
      "(44, \"'Viendo los #oscars #TNTLA  desde Honduras\")\n",
      "(45, \"'Apostas 2022 #Oscars \\\\n- Filme: CODA\\\\n- Direção: Jane Campion \\\\n- Ator: Will Smith\\\\n- Atriz: Jessica Chastain'\")\n",
      "(46, \"'We RIOT if Will Smith doesn’t win tonight. #Oscars'\")\n",
      "(47, \"'I have a feeling Will Smith is going home with the Oscar tonight. It’s feeling like that kinda party.'\")\n",
      "(48, \"'@TheAcademy Will Smith viste siempre de negro ??\\\\nes un agente de ?'\")\n",
      "(49, \"'@savestheday91 I predict an Oscar win for Will Smith and my Oscar pool https://t.co/1BWE5DCD9m'\")\n",
      "(50, \"'I want to see Beyonce perform and Will Smith win but I do not want to watch if that makes sense. #TheOscars are always so long'\")\n",
      "(51, \"'@HeManMamadorsin #PremiacionesEnTNT  will smith'\")\n",
      "(52, \"'@heroichollywood Will Smith.'\")\n",
      "(53, \"@NormanGenius https://t.co/4cP765QcJr\\\\n\\\\nQuand j'entends Will Smith et Tick Tick Boom dans la même phrase\")\n",
      "(54, \"'La delgada línea entre querer quedarme hasta las 5 am a ver si Will Smith se lleva el Oscar o acostarme que mañana madrugo'\")\n",
      "(55, \"'Só que o Beneditc tbm foi maravilhoso\")\n",
      "(56, \"'that chick was blatantly flirting with Will Smith. but ANWYAY.. Jada looked beauuutiful! 😍 #Oscars'\")\n",
      "(57, \"Will Smith'in gicik karisi Jada Smith fevkaledenin fevkinde. #Oscars https://t.co/6Cxzjby3r8\")\n",
      "(58, \"'My people!!!! Will Smith in a Kenneth Branagh film when??? https://t.co/RQr17FbSEP'\")\n",
      "(59, \"'Bueno\")\n",
      "(60, \"'#Oscars Vamos Kristen Stewart y Will Smith!!!'\")\n",
      "(61, \"'@VictoriaAStacey I’m also very here for will smith hopefully finally winning an Oscar'\")\n",
      "(62, \"'Okay it’s that time of year again. #Oscar Predictions:\\\\nBest Picture - CODA\\\\nDirector - Jane Campion\\\\nScreenplay - Licorice Pizza \\\\nAdapted - CODA\\\\nActor - Will Smith \\\\nActress - Jessica Chastain\\\\nSupport Actor - Troy Kutsor\\\\nSupport Actress - Ariana DeBose'\")\n",
      "(63, \"'@GeekZoneGZ Will smith'\")\n",
      "(64, \"'eu daria TUDO pro andrew ganhar melhor ator\")\n",
      "(65, \"'The fact that they announce the smaller categories pre the ceremony is so lame. Anyway\")\n",
      "(66, \"'I saw Jada Pinkett Smith and my thought was “Is that Will Smith’s mom”'\")\n",
      "(67, \"'melhor ator \\\\n\\\\njavier bardem\\\\nbenedict cumberbatch\\\\nandrew garfield ❤️\\\\nwill smith 🏆 \\\\ndenzel washington'\")\n",
      "(68, \"'#CierreDelCongreso #NuevaConstitucion \\\\n#PrensaBasuraYGolpista\\\\nLicorice Pizza Perdió\\\\n#VacanciaYa Will Smith Gisela https://t.co/zQVPF71TPm'\")\n",
      "(69, \"'Jada Picket\")\n",
      "(70, \"'É incrível como o Will Smith pode ter seus 70 anos mas ainda sim vai estar com a mesma cara de quando fazia Um Maluco no Pedaço #Oscar https://t.co/1DSU7Alqbb'\")\n",
      "(71, \"'Posiblemente gane el #Oscar a mejor actor Will Smith por un papel totalmente falopa\")\n",
      "(72, \"@redlianak Don't forget her signature accessory. A dead on the inside Will Smith.\")\n",
      "(73, \"'@SkyCinema Sweet 🍿and hopefully #WillSmith wins #BestActor !'\")\n",
      "(74, \"'Espero que o Will Smith ganhe o Oscar de melhor ator'\")\n",
      "(75, \"'due uomini che verrano derubati da will smith stanotte #Oscar https://t.co/WGVmf6JmVS'\")\n",
      "(76, \"'It’s #Oscar night! I’m so hoping Will Smith wins Best Actor.'\")\n",
      "(77, \"'I just want Encanto\")\n",
      "(78, \"'@stephenasmith @willpackerprods @willsmith Facts on Will Smith!'\")\n",
      "(79, \"'That being said\")\n",
      "(80, \"'@jose_david07 - Actriz de reparto: Ariana DeBose\\\\n- Actor de reparto: Troy Kotsur\\\\n- Actriz principal: Jessica Chastein o Nicole Kidman. El batacazo: Kristen Stewart.\\\\n- Actor principal: Will Smith\\\\n- Director: Jane Campion\\\\n- Mejor película: El poder del perro o el batacazo: CODA'\")\n",
      "(81, \"'#Oscars Então é hoje que o Oscar do Will Smith sai né?...'\")\n",
      "(82, \"'@bellapzreis É\")\n",
      "(83, \"'@galactikittyess no creo que gane u.u creo que se lo van a dar a will smith'\")\n",
      "(84, \"'Por mais que eu queira muuito que o Andrew garfield ganhe o Oscar de melhor ator\")\n",
      "(85, \"'Last minute Oscar predictions:\\\\n#Coda takes best picture and best supporting Actor (Troy Kotsur)\\\\nWill Smith finally gets an Oscar\\\\nJane Campion wins for Director\\\\n#MitchellsvstheMachines upsets Encanto (although this is probably still unlikely)'\")\n",
      "(86, \"'If will smith win tonight imma do a backflip'\")\n",
      "(87, \"'@stephenasmith @willpackerprods @willsmith So call sports exert? When USA 🇺🇸 is destroying Panama in futbol and Sixer VS. Suns is on. Why is ESPN paying this clown 🤡 $11M for. Tomorrow on 1st take we do not want to hear anything about the Oscar’s.'\")\n",
      "(88, \"'Will Smith finally getting his due'\")\n",
      "(89, \"'@stephenasmith @willpackerprods @willsmith No one gives AF.'\")\n",
      "(90, \"'@Salzali_ \\\\U0001fae3 i stand by will smith ‼️'\")\n",
      "(91, \"'@TNTLA El ganador al mejor actor debe ser Will Smith 🙌🏼♥️🙌🏼'\")\n",
      "(92, \"'o verdadeiro último romântico da terra é ele\")\n",
      "(93, \"'@stephenasmith @willpackerprods @willsmith If he doesn’t\")\n",
      "(94, \"'aí eu lembro que will smith tá na mesma categoria que ele sério os patrões!!! https://t.co/aGqGP5jcrJ'\")\n",
      "(95, \"'@willsmith @menswearhouse you’re gonna like the way you look @theoscars \\\\U0001f90c🏽'\")\n",
      "(96, \"'lo lamento mucho a esa gente que no lo criaron con adam Sandler\")\n",
      "(97, \"'si le dan el oscar a will smith quemo hollywood'\")\n",
      "(98, \"'Will Smith is very nice we’re basically best friends'\")\n",
      "(99, \"'The best Will Smith movies that should have won him\\\\xa0Oscars https://t.co/v52bKnmeQs'\")\n"
     ]
    }
   ],
   "source": [
    "extracted_tweets = \"snscrape --format '{content!r}'\"+ f\" --max-results {max_results} --since {from_date} twitter-search '{search_term} until:{end_date}' > extracted-tweets.txt\"\n",
    "os.system(extracted_tweets)\n",
    "if os.stat(\"extracted-tweets.txt\").st_size == 0:\n",
    "    print('No Tweets found')\n",
    "else:\n",
    "    df = pd.read_csv('extracted-tweets.txt', names=['content'])\n",
    "    for row in df['content'].iteritems():\n",
    "        print(row)"
   ]
  },
  {
   "cell_type": "code",
   "execution_count": null,
   "id": "691128d5",
   "metadata": {},
   "outputs": [],
   "source": []
  }
 ],
 "metadata": {
  "kernelspec": {
   "display_name": "Python 3",
   "language": "python",
   "name": "python3"
  },
  "language_info": {
   "codemirror_mode": {
    "name": "ipython",
    "version": 3
   },
   "file_extension": ".py",
   "mimetype": "text/x-python",
   "name": "python",
   "nbconvert_exporter": "python",
   "pygments_lexer": "ipython3",
   "version": "3.8.8"
  }
 },
 "nbformat": 4,
 "nbformat_minor": 5
}
